{
 "cells": [
  {
   "cell_type": "code",
   "execution_count": 1,
   "id": "891ca6bb-68a0-4da1-b3be-bc2f8b01f95c",
   "metadata": {},
   "outputs": [
    {
     "name": "stdout",
     "output_type": "stream",
     "text": [
      "Defaulting to user installation because normal site-packages is not writeable\n",
      "Requirement already satisfied: flask in c:\\programdata\\anaconda3\\lib\\site-packages (3.1.0)\n",
      "Requirement already satisfied: flask_sqlalchemy in c:\\users\\krish\\appdata\\roaming\\python\\python313\\site-packages (3.1.1)\n",
      "Requirement already satisfied: Werkzeug>=3.1 in c:\\programdata\\anaconda3\\lib\\site-packages (from flask) (3.1.3)\n",
      "Requirement already satisfied: Jinja2>=3.1.2 in c:\\programdata\\anaconda3\\lib\\site-packages (from flask) (3.1.6)\n",
      "Requirement already satisfied: itsdangerous>=2.2 in c:\\programdata\\anaconda3\\lib\\site-packages (from flask) (2.2.0)\n",
      "Requirement already satisfied: click>=8.1.3 in c:\\programdata\\anaconda3\\lib\\site-packages (from flask) (8.1.8)\n",
      "Requirement already satisfied: blinker>=1.9 in c:\\programdata\\anaconda3\\lib\\site-packages (from flask) (1.9.0)\n",
      "Requirement already satisfied: sqlalchemy>=2.0.16 in c:\\programdata\\anaconda3\\lib\\site-packages (from flask_sqlalchemy) (2.0.39)\n",
      "Requirement already satisfied: colorama in c:\\programdata\\anaconda3\\lib\\site-packages (from click>=8.1.3->flask) (0.4.6)\n",
      "Requirement already satisfied: MarkupSafe>=2.0 in c:\\programdata\\anaconda3\\lib\\site-packages (from Jinja2>=3.1.2->flask) (3.0.2)\n",
      "Requirement already satisfied: greenlet!=0.4.17 in c:\\programdata\\anaconda3\\lib\\site-packages (from sqlalchemy>=2.0.16->flask_sqlalchemy) (3.1.1)\n",
      "Requirement already satisfied: typing-extensions>=4.6.0 in c:\\programdata\\anaconda3\\lib\\site-packages (from sqlalchemy>=2.0.16->flask_sqlalchemy) (4.12.2)\n"
     ]
    }
   ],
   "source": [
    "\n",
    "import sys\n",
    "!{sys.executable} -m pip install flask flask_sqlalchemy\n",
    "from flask import Flask, request, jsonify\n",
    "from flask_sqlalchemy import SQLAlchemy\n",
    "from datetime import datetime\n",
    "\n",
    "# Initialize Flask app\n",
    "app = Flask(__name__)\n",
    "\n",
    "# SQLite database setup\n",
    "app.config['SQLALCHEMY_DATABASE_URI'] = 'sqlite:///blog.db'\n",
    "app.config['SQLALCHEMY_TRACK_MODIFICATIONS'] = False\n",
    "db = SQLAlchemy(app)\n",
    "\n",
    "# Blog Post Model\n",
    "class Post(db.Model):\n",
    "    id = db.Column(db.Integer, primary_key=True)\n",
    "    title = db.Column(db.String(200), nullable=False)\n",
    "    content = db.Column(db.Text, nullable=False)\n",
    "    category = db.Column(db.String(100), nullable=False)\n",
    "    tags = db.Column(db.String(200), nullable=True)  # stored as comma-separated\n",
    "    createdAt = db.Column(db.DateTime, default=datetime.utcnow)\n",
    "    updatedAt = db.Column(db.DateTime, default=datetime.utcnow, onupdate=datetime.utcnow)\n",
    "\n",
    "    def to_dict(self):\n",
    "        return {\n",
    "            \"id\": self.id,\n",
    "            \"title\": self.title,\n",
    "            \"content\": self.content,\n",
    "            \"category\": self.category,\n",
    "            \"tags\": self.tags.split(\",\") if self.tags else [],\n",
    "            \"createdAt\": self.createdAt.isoformat(),\n",
    "            \"updatedAt\": self.updatedAt.isoformat()\n",
    "        }\n",
    "\n",
    "# Create database tables\n",
    "with app.app_context():\n",
    "    db.create_all()\n",
    "\n",
    "# ---------------- CRUD Endpoints ----------------\n",
    "\n",
    "# Create Blog Post\n",
    "@app.route('/posts', methods=['POST'])\n",
    "def create_post():\n",
    "    data = request.json\n",
    "    if not data or not data.get(\"title\") or not data.get(\"content\") or not data.get(\"category\"):\n",
    "        return jsonify({\"error\": \"Missing required fields\"}), 400\n",
    "\n",
    "    new_post = Post(\n",
    "        title=data[\"title\"],\n",
    "        content=data[\"content\"],\n",
    "        category=data[\"category\"],\n",
    "        tags=\",\".join(data.get(\"tags\", []))\n",
    "    )\n",
    "    db.session.add(new_post)\n",
    "    db.session.commit()\n",
    "    return jsonify(new_post.to_dict()), 201\n",
    "\n",
    "# Get All Blog Posts (with optional search)\n",
    "@app.route('/posts', methods=['GET'])\n",
    "def get_posts():\n",
    "    term = request.args.get(\"term\")\n",
    "    query = Post.query\n",
    "    if term:\n",
    "        search = f\"%{term}%\"\n",
    "        query = query.filter((Post.title.like(search)) | (Post.content.like(search)) | (Post.category.like(search)))\n",
    "    posts = query.all()\n",
    "    return jsonify([post.to_dict() for post in posts]), 200\n",
    "\n",
    "# Get Single Blog Post\n",
    "@app.route('/posts/<int:post_id>', methods=['GET'])\n",
    "def get_post(post_id):\n",
    "    post = Post.query.get(post_id)\n",
    "    if not post:\n",
    "        return jsonify({\"error\": \"Post not found\"}), 404\n",
    "    return jsonify(post.to_dict()), 200\n",
    "\n",
    "# Update Blog Post\n",
    "@app.route('/posts/<int:post_id>', methods=['PUT'])\n",
    "def update_post(post_id):\n",
    "    post = Post.query.get(post_id)\n",
    "    if not post:\n",
    "        return jsonify({\"error\": \"Post not found\"}), 404\n",
    "\n",
    "    data = request.json\n",
    "    if not data or not data.get(\"title\") or not data.get(\"content\") or not data.get(\"category\"):\n",
    "        return jsonify({\"error\": \"Missing required fields\"}), 400\n",
    "\n",
    "    post.title = data[\"title\"]\n",
    "    post.content = data[\"content\"]\n",
    "    post.category = data[\"category\"]\n",
    "    post.tags = \",\".join(data.get(\"tags\", []))\n",
    "    db.session.commit()\n",
    "    return jsonify(post.to_dict()), 200\n",
    "\n",
    "# Delete Blog Post\n",
    "@app.route('/posts/<int:post_id>', methods=['DELETE'])\n",
    "def delete_post(post_id):\n",
    "    post = Post.query.get(post_id)\n",
    "    if not post:\n",
    "        return jsonify({\"error\": \"Post not found\"}), 404\n",
    "    db.session.delete(post)\n",
    "    db.session.commit()\n",
    "    return \"\", 204\n",
    "\n",
    "\n",
    "from werkzeug.serving import run_simple\n",
    "\n",
    "def run_app():\n",
    "    run_simple('localhost', 5000, app, use_reloader=False)\n"
   ]
  },
  {
   "cell_type": "code",
   "execution_count": 5,
   "id": "4e8ca458-1424-468a-af21-8a2e1ef15cc4",
   "metadata": {},
   "outputs": [
    {
     "name": "stdout",
     "output_type": "stream",
     "text": [
      "C:\\ProgramData\\anaconda3\\python.exe\n"
     ]
    }
   ],
   "source": [
    "import sys\n",
    "print(sys.executable)\n"
   ]
  },
  {
   "cell_type": "code",
   "execution_count": 2,
   "id": "bcb769d5-c4bd-48b7-bc01-02aea79927d6",
   "metadata": {},
   "outputs": [
    {
     "name": "stdout",
     "output_type": "stream",
     "text": [
      "Defaulting to user installation because normal site-packages is not writeable\n",
      "Requirement already satisfied: flask_sqlalchemy in c:\\users\\krish\\appdata\\roaming\\python\\python313\\site-packages (3.1.1)\n",
      "Requirement already satisfied: flask>=2.2.5 in c:\\programdata\\anaconda3\\lib\\site-packages (from flask_sqlalchemy) (3.1.0)\n",
      "Requirement already satisfied: sqlalchemy>=2.0.16 in c:\\programdata\\anaconda3\\lib\\site-packages (from flask_sqlalchemy) (2.0.39)\n",
      "Requirement already satisfied: Werkzeug>=3.1 in c:\\programdata\\anaconda3\\lib\\site-packages (from flask>=2.2.5->flask_sqlalchemy) (3.1.3)\n",
      "Requirement already satisfied: Jinja2>=3.1.2 in c:\\programdata\\anaconda3\\lib\\site-packages (from flask>=2.2.5->flask_sqlalchemy) (3.1.6)\n",
      "Requirement already satisfied: itsdangerous>=2.2 in c:\\programdata\\anaconda3\\lib\\site-packages (from flask>=2.2.5->flask_sqlalchemy) (2.2.0)\n",
      "Requirement already satisfied: click>=8.1.3 in c:\\programdata\\anaconda3\\lib\\site-packages (from flask>=2.2.5->flask_sqlalchemy) (8.1.8)\n",
      "Requirement already satisfied: blinker>=1.9 in c:\\programdata\\anaconda3\\lib\\site-packages (from flask>=2.2.5->flask_sqlalchemy) (1.9.0)\n",
      "Requirement already satisfied: colorama in c:\\programdata\\anaconda3\\lib\\site-packages (from click>=8.1.3->flask>=2.2.5->flask_sqlalchemy) (0.4.6)\n",
      "Requirement already satisfied: MarkupSafe>=2.0 in c:\\programdata\\anaconda3\\lib\\site-packages (from Jinja2>=3.1.2->flask>=2.2.5->flask_sqlalchemy) (3.0.2)\n",
      "Requirement already satisfied: greenlet!=0.4.17 in c:\\programdata\\anaconda3\\lib\\site-packages (from sqlalchemy>=2.0.16->flask_sqlalchemy) (3.1.1)\n",
      "Requirement already satisfied: typing-extensions>=4.6.0 in c:\\programdata\\anaconda3\\lib\\site-packages (from sqlalchemy>=2.0.16->flask_sqlalchemy) (4.12.2)\n"
     ]
    }
   ],
   "source": [
    "!C:\\ProgramData\\anaconda3\\python.exe -m pip install flask_sqlalchemy\n"
   ]
  },
  {
   "cell_type": "code",
   "execution_count": null,
   "id": "bd6dcc6f-ab7b-4d95-a1e7-a936a1d062ad",
   "metadata": {},
   "outputs": [],
   "source": []
  }
 ],
 "metadata": {
  "kernelspec": {
   "display_name": "Python 3 (ipykernel)",
   "language": "python",
   "name": "python3"
  },
  "language_info": {
   "codemirror_mode": {
    "name": "ipython",
    "version": 3
   },
   "file_extension": ".py",
   "mimetype": "text/x-python",
   "name": "python",
   "nbconvert_exporter": "python",
   "pygments_lexer": "ipython3",
   "version": "3.13.5"
  }
 },
 "nbformat": 4,
 "nbformat_minor": 5
}
